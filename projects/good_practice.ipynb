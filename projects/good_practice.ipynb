{
 "cells": [
  {
   "cell_type": "markdown",
   "id": "b581f703-4070-488c-b1f2-2dbb4e027498",
   "metadata": {},
   "source": [
    "# Good coding practice"
   ]
  },
  {
   "cell_type": "markdown",
   "id": "310eb2a2",
   "metadata": {},
   "source": [
    "Generally, try to keep your code clean and well documented! And be consistent - often it doesn't really matter how as long as your code is readeble and understandeble."
   ]
  },
  {
   "attachments": {},
   "cell_type": "markdown",
   "id": "994fcfa9-8dee-487c-8486-a2a3b56a39c4",
   "metadata": {},
   "source": [
    "**Macro structure** (folders and files):\n",
    "\n",
    "- **One folder** for each project with ALL required files (remember README.md)\n",
    "- **End goal**: one .ipynb-file (notebook) to run it all. *Very important!*\n",
    "- **Module files** Define functions, classes, etc. in a seperate .py-file. Perhaps different modules for different kind of tasks (solving, simulating, plotting). Remember to document your code in the .py-file\n",
    "- **Notebook files** (.ipynb): Call functions, classes etc. and explain and present the results. Don't comment code directly in this file\n",
    "- **Larger projects:** Sub-folders for data, figures, etc. (*not relevant now*)"
   ]
  },
  {
   "attachments": {},
   "cell_type": "markdown",
   "id": "99a3c465-2880-49ac-b2cc-03c9a8892a27",
   "metadata": {
    "tags": []
   },
   "source": [
    "**Workflow:**\n",
    "\n",
    "1. **Notebooks (.ipynb):** \n",
    "2. **Modules (.py):**"
   ]
  },
  {
   "cell_type": "markdown",
   "id": "731b1c77-b910-4e3d-bbe5-93ef5714960a",
   "metadata": {},
   "source": [
    "**Recommendations:**\n",
    "\n",
    "1. **Code layout:**\n",
    "    * **Indentation:** Four spaces or tap\n",
    "    * **Line length:** Max of 79 characters (wrap line + indent properly)\n",
    "    * **Strings:** Use single or double quote (be consistent!)\n",
    "    * **White space:**\n",
    "        * After comma: ``x = [1, 2, 3]`` (not required)\n",
    "        * Around assignment: ``x = y``\n",
    "        * After colon: ``if x == 2: print(x)``\n",
    "        * Around operators with lowest priority in a calculation: ``c = (a+b) * (a-b)`` or `z = x*x + y*y` \n",
    "2. **Naming conventions:** Short, but also precise\n",
    "    * **Modules:** Lower case with potential underscores (e.g. ``numecon`` or ``num_econ``)\n",
    "    * **Classes:** Camel case (e.g. ``ConsumerClass``)\n",
    "    * **Variables, functions and methods:** Lower case with potential underscores   \n",
    "    * ... there is lot's of diffrent ways of naming variables: snake_case and camelCase are some of the more commen ones. It's not import which you chose to use, but be consistent!    \n",
    "3. **Ordered section comments:** Break your code into sections\n",
    "    * Give each section a name and a place in the ordering\n",
    "    * Level 1: a, b, c etc.\n",
    "    * Level 2: i, ii, iii, iv etc.\n",
    "    * Level 3: o, oo, ooo, oooo etc.\n",
    "4. **Line comments:** Small additional hints\n",
    "    * Again, short and precise\n",
    "    * Try to avoid just explaining what the code does (must provide additional information)\n",
    "5. **Docstrings:** Should be written for all functions, methods and classes (see how below) in the .py-file/modules"
   ]
  },
  {
   "cell_type": "markdown",
   "id": "0bdc30ec-4512-41d8-997b-756b976363f3",
   "metadata": {},
   "source": [
    "**More on names:**\n",
    "\n",
    "1. Name functions after their **intended use**. Verbs can be handy for such naming (*But its doing many things?* Not a good sign, see design patterns below) \n",
    "1. Help yourself in debugging and name variables in a **searchable way** (unless they are super local). You cannot search for the name *i* in a bunch of code files\n",
    "1. Normally avoid using any special characters\n",
    "2. Unused variables and non-public methods should start with a ``_``"
   ]
  },
  {
   "cell_type": "markdown",
   "id": "432b2c16-0cba-453f-ac74-b43b062c3499",
   "metadata": {},
   "source": [
    "**Two different perspectives on comments:**\n",
    "\n",
    "1. The comments explain humans what the code does(*you'll write the code first, then comments - but sometimes it can be very useful to write the docstrings first to make sure you knwo what you want the code to do!*)\n",
    "2. The code makes the computer do what the comments say (*you'll write the comments first, then code*) "
   ]
  },
  {
   "cell_type": "markdown",
   "id": "82868367-e36d-40e6-b7b1-fbb69b14fa56",
   "metadata": {},
   "source": [
    "**Example of well formatted code:**"
   ]
  },
  {
   "cell_type": "code",
   "execution_count": 10,
   "id": "31d8e01c-3373-4a9b-89a4-e6d68347cbfa",
   "metadata": {},
   "outputs": [
    {
     "name": "stdout",
     "output_type": "stream",
     "text": [
      "2.3978952727983707\n",
      "1.791759469228055\n",
      "1.0986122886681098\n",
      "1.0986122886681098\n",
      "1.791759469228055\n",
      "2.3978952727983707\n"
     ]
    }
   ],
   "source": [
    "# a. imports\n",
    "import math\n",
    "\n",
    "# b. name for section\n",
    "alpha = 1\n",
    "beta = 2\n",
    "x = [-3, -2, -1, 1, 2, 3]\n",
    "\n",
    "# c. name for section\n",
    "def function(x, alpha, beta):\n",
    "    \"\"\" explain what the function does i.e. this function does ...\n",
    "    \n",
    "    Args:\n",
    "    \n",
    "        x (float): explanation\n",
    "        alpha (float): explanation\n",
    "        beta (float): explanation\n",
    "        \n",
    "    Returns:\n",
    "    \n",
    "        y (float): explanation\n",
    "    \n",
    "    \"\"\"\n",
    "\n",
    "    y = x**2 + alpha*beta\n",
    "    return y\n",
    "\n",
    "# d. name for section\n",
    "for i in range(len(x)):\n",
    "    \n",
    "    # i. name for sub-section\n",
    "    y = function(x[i], alpha, beta)\n",
    "    \n",
    "    # ii. name for sub-section\n",
    "    cond = y > 0 # non-positive not allowed due to log (line comment)\n",
    "    \n",
    "    # iii. name for sub-section\n",
    "    if cond:\n",
    "        print(math.log(y))"
   ]
  }
 ],
 "metadata": {
  "kernelspec": {
   "display_name": "Python 3",
   "language": "python",
   "name": "python3"
  },
  "language_info": {
   "codemirror_mode": {
    "name": "ipython",
    "version": 3
   },
   "file_extension": ".py",
   "mimetype": "text/x-python",
   "name": "python",
   "nbconvert_exporter": "python",
   "pygments_lexer": "ipython3",
   "version": "3.11.5"
  },
  "vscode": {
   "interpreter": {
    "hash": "d0739adadb70fb283779b5e2e3eef02ea1c8109111b2a8bb06c31b646403ab16"
   }
  }
 },
 "nbformat": 4,
 "nbformat_minor": 5
}
