{
 "cells": [
  {
   "cell_type": "code",
   "execution_count": 62,
   "metadata": {},
   "outputs": [
    {
     "name": "stdout",
     "output_type": "stream",
     "text": [
      "Result for the 75th iteration: 2.5\n"
     ]
    }
   ],
   "source": [
    "# Calculates the correct values\n",
    "\n",
    "N = 75\n",
    "\n",
    "def cal(i):\n",
    "    return 0.5 + 2 * i/N\n",
    "\n",
    "i = 75\n",
    "print(f'Result for the {i}th iteration: {cal(i)}')"
   ]
  },
  {
   "cell_type": "code",
   "execution_count": 73,
   "metadata": {},
   "outputs": [
    {
     "name": "stdout",
     "output_type": "stream",
     "text": [
      "P1 = [0.5, 0.5266666666666666, 0.5533333333333333, 0.58, 0.6066666666666667, 0.6333333333333333, 0.66, 0.6866666666666666, 0.7133333333333334, 0.74, 0.7666666666666666, 0.7933333333333333, 0.8200000000000001, 0.8466666666666667, 0.8733333333333333, 0.9, 0.9266666666666667, 0.9533333333333334, 0.98, 1.0066666666666668, 1.0333333333333332, 1.06, 1.0866666666666667, 1.1133333333333333, 1.1400000000000001, 1.1666666666666665, 1.1933333333333334, 1.22, 1.2466666666666666, 1.2733333333333334, 1.3, 1.3266666666666667, 1.3533333333333335, 1.38, 1.4066666666666667, 1.4333333333333333, 1.46, 1.4866666666666668, 1.5133333333333334, 1.54, 1.5666666666666667, 1.5933333333333333, 1.62, 1.6466666666666667, 1.6733333333333333, 1.7, 1.7266666666666666, 1.7533333333333334, 1.78, 1.8066666666666666, 1.8333333333333333, 1.86, 1.8866666666666667, 1.9133333333333333, 1.94, 1.9666666666666666, 1.9933333333333334, 2.02, 2.046666666666667, 2.0733333333333333, 2.1, 2.126666666666667, 2.1533333333333333, 2.1799999999999997, 2.206666666666667, 2.2333333333333334, 2.26, 2.2866666666666666, 2.3133333333333335, 2.34, 2.3666666666666667, 2.3933333333333335, 2.42, 2.4466666666666668, 2.4733333333333336, 2.5]\n"
     ]
    }
   ],
   "source": [
    "# As a list\n",
    "\n",
    "N = 75 \n",
    "\n",
    "P1 = [0.5 + 2 * i/N for i in range(N + 1)] # list comprehension\n",
    "P1_rounded = [round(x, 3) for x in P1] # list comprehension\n",
    "print(\"P1 =\", P1)\n",
    "\n",
    "# in this case if you want the list to become a numpy array you can simple use np.round() like this for three decimals\n",
    "# P1 = np.round(P1, 3)"
   ]
  },
  {
   "cell_type": "code",
   "execution_count": 72,
   "metadata": {},
   "outputs": [
    {
     "name": "stdout",
     "output_type": "stream",
     "text": [
      "P1 = [0.5   0.527 0.553 0.58  0.607 0.633 0.66  0.687 0.713 0.74  0.767 0.793\n",
      " 0.82  0.847 0.873 0.9   0.927 0.953 0.98  1.007 1.033 1.06  1.087 1.113\n",
      " 1.14  1.167 1.193 1.22  1.247 1.273 1.3   1.327 1.353 1.38  1.407 1.433\n",
      " 1.46  1.487 1.513 1.54  1.567 1.593 1.62  1.647 1.673 1.7   1.727 1.753\n",
      " 1.78  1.807 1.833 1.86  1.887 1.913 1.94  1.967 1.993 2.02  2.047 2.073\n",
      " 2.1   2.127 2.153 2.18  2.207 2.233 2.26  2.287 2.313 2.34  2.367 2.393\n",
      " 2.42  2.447 2.473 2.5  ]\n"
     ]
    }
   ],
   "source": [
    "# As a numpy-array\n",
    "\n",
    "import numpy as np\n",
    "\n",
    "N = 75\n",
    "\n",
    "# The function can be defined as a function if you need to use it mulitple times\n",
    "def numbers(start, stop, N):\n",
    "    return np.linspace(0.5, 2.5, num=N+1)\n",
    "\n",
    "# P1 = numbers(1, 75, N)\n",
    "# P1_rounded = np.round(P1, 3)\n",
    "# print('P1= ', P1_rounded)\n",
    "\n",
    "# ... or simply like this \n",
    "P1 = np.linspace(0.5, 2.5, num=N+1)\n",
    "P1_rounded = np.round(P1, 3)\n",
    "print('P1 =', P1_rounded)"
   ]
  },
  {
   "cell_type": "code",
   "execution_count": 65,
   "metadata": {},
   "outputs": [
    {
     "name": "stdout",
     "output_type": "stream",
     "text": [
      "P1 = []\n",
      "List = [ 0  1  2  3  4  5  6  7  8  9 10 11 12 13 14 15 16 17 18 19 20 21 22 23\n",
      " 24 25 26 27 28 29 30 31 32 33 34 35 36 37 38 39 40 41 42 43 44 45 46 47\n",
      " 48 49 50 51 52 53 54 55 56 57 58 59 60 61 62 63 64 65 66 67 68 69 70 71\n",
      " 72 73 74 75]\n",
      "\n",
      " None\n"
     ]
    }
   ],
   "source": [
    "# Eloise' code (non-crashing version):\n",
    "\n",
    "P1 = np.array([])\n",
    "print('P1 =', P1)\n",
    "\n",
    "a = np.arange(76)\n",
    "print('List =', a)\n",
    "\n",
    "def price_vector(P1, a, p1):\n",
    "\n",
    "    #while p1<=2.5: #if p1<=2.5 == True:\n",
    "    for i in a:\n",
    "        p1 = 0.5 + 2*(i/75)\n",
    "    # print('\\n', p1)\n",
    "\n",
    "trial = price_vector(P1, a, p1=0)\n",
    "print('\\n', trial)\n"
   ]
  },
  {
   "cell_type": "code",
   "execution_count": null,
   "metadata": {},
   "outputs": [],
   "source": []
  }
 ],
 "metadata": {
  "kernelspec": {
   "display_name": "base",
   "language": "python",
   "name": "python3"
  },
  "language_info": {
   "codemirror_mode": {
    "name": "ipython",
    "version": 3
   },
   "file_extension": ".py",
   "mimetype": "text/x-python",
   "name": "python",
   "nbconvert_exporter": "python",
   "pygments_lexer": "ipython3",
   "version": "3.11.5"
  }
 },
 "nbformat": 4,
 "nbformat_minor": 2
}
